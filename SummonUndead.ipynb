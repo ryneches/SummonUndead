{
 "cells": [
  {
   "cell_type": "markdown",
   "metadata": {},
   "source": [
    "# SummonUndead\n",
    "### raise armies of gibbering horrors, the easy way"
   ]
  },
  {
   "cell_type": "code",
   "execution_count": 1,
   "metadata": {},
   "outputs": [],
   "source": [
    "%load_ext SummonUndead"
   ]
  },
  {
   "cell_type": "code",
   "execution_count": 2,
   "metadata": {},
   "outputs": [
    {
     "data": {
      "text/plain": [
       "'Army of undead summoned. '"
      ]
     },
     "execution_count": 2,
     "metadata": {},
     "output_type": "execute_result"
    }
   ],
   "source": [
    "%summon_undead"
   ]
  },
  {
   "cell_type": "code",
   "execution_count": 3,
   "metadata": {},
   "outputs": [],
   "source": [
    "run_args = [ { 'index' : 0, 'x' : 10 },\n",
    "             { 'index' : 1, 'x' : 11 },\n",
    "             { 'index' : 2, 'x' : 23 },\n",
    "             { 'index' : 3, 'x' : 34 },\n",
    "             { 'index' : 4, 'x' : 13 },\n",
    "             { 'index' : 5, 'x' : 55 },\n",
    "             { 'index' : 6, 'x' : 73 },\n",
    "             { 'index' : 7, 'x' : 21 },\n",
    "             { 'index' : 8, 'x' : 18 } ]"
   ]
  },
  {
   "cell_type": "code",
   "execution_count": 4,
   "metadata": {},
   "outputs": [
    {
     "name": "stderr",
     "output_type": "stream",
     "text": [
      "executing in local serial mode...\n"
     ]
    },
    {
     "name": "stdout",
     "output_type": "stream",
     "text": [
      "Namespace(cpus=5, debug=True, label='foo', mode='local_serial', output=['y,index,pid'], params='run_args')\n",
      "input_vector : [{'index': b'\\x80\\x03K\\x00.', 'x': b'\\x80\\x03K\\n.'}, {'index': b'\\x80\\x03K\\x01.', 'x': b'\\x80\\x03K\\x0b.'}, {'index': b'\\x80\\x03K\\x02.', 'x': b'\\x80\\x03K\\x17.'}, {'index': b'\\x80\\x03K\\x03.', 'x': b'\\x80\\x03K\".'}, {'index': b'\\x80\\x03K\\x04.', 'x': b'\\x80\\x03K\\r.'}, {'index': b'\\x80\\x03K\\x05.', 'x': b'\\x80\\x03K7.'}, {'index': b'\\x80\\x03K\\x06.', 'x': b'\\x80\\x03KI.'}, {'index': b'\\x80\\x03K\\x07.', 'x': b'\\x80\\x03K\\x15.'}, {'index': b'\\x80\\x03K\\x08.', 'x': b'\\x80\\x03K\\x12.'}]\n",
      "output : {'vars': ['y', 'index', 'pid'], 'pickle': '/tmp/tmpicovb3xm.output'}\n",
      "modules : {'json'}\n"
     ]
    },
    {
     "name": "stderr",
     "output_type": "stream",
     "text": [
      "0% [##       ] 100% | ETA: 00:00:00"
     ]
    },
    {
     "name": "stdout",
     "output_type": "stream",
     "text": [
      "stdout 0 : b''\n",
      "stderr 0 : b''\n",
      "stdout 1 : b''\n",
      "stderr 1 : b''\n"
     ]
    },
    {
     "name": "stderr",
     "output_type": "stream",
     "text": [
      "\r",
      "0% [###      ] 100% | ETA: 00:00:00"
     ]
    },
    {
     "name": "stdout",
     "output_type": "stream",
     "text": [
      "stdout 2 : b''\n",
      "stderr 2 : b''\n"
     ]
    },
    {
     "name": "stderr",
     "output_type": "stream",
     "text": [
      "0% [######   ] 100% | ETA: 00:00:00"
     ]
    },
    {
     "name": "stdout",
     "output_type": "stream",
     "text": [
      "stdout 3 : b''\n",
      "stderr 3 : b''\n",
      "stdout 4 : b''\n",
      "stderr 4 : b''\n"
     ]
    },
    {
     "name": "stderr",
     "output_type": "stream",
     "text": [
      "0% [#########] 100% | ETA: 00:00:00"
     ]
    },
    {
     "name": "stdout",
     "output_type": "stream",
     "text": [
      "stdout 5 : b''\n",
      "stderr 5 : b''\n",
      "stdout 6 : b''\n",
      "stderr 6 : b''\n",
      "stdout 7 : b''\n",
      "stderr 7 : b''\n"
     ]
    },
    {
     "name": "stderr",
     "output_type": "stream",
     "text": [
      "\n",
      "Total time elapsed: 00:00:00\n"
     ]
    },
    {
     "name": "stdout",
     "output_type": "stream",
     "text": [
      "stdout 8 : b''\n",
      "stderr 8 : b''\n"
     ]
    }
   ],
   "source": [
    "%%moan --label foo -n 5 -i run_args -o y,index,pid --debug True\n",
    "import os\n",
    "\n",
    "y = x**2\n",
    "pid = os.getpid()"
   ]
  },
  {
   "cell_type": "code",
   "execution_count": 5,
   "metadata": {},
   "outputs": [
    {
     "data": {
      "text/plain": [
       "[{'index': b'\\x80\\x03K\\x00.', 'x': b'\\x80\\x03K\\n.'},\n",
       " {'index': b'\\x80\\x03K\\x01.', 'x': b'\\x80\\x03K\\x0b.'},\n",
       " {'index': b'\\x80\\x03K\\x02.', 'x': b'\\x80\\x03K\\x17.'},\n",
       " {'index': b'\\x80\\x03K\\x03.', 'x': b'\\x80\\x03K\".'},\n",
       " {'index': b'\\x80\\x03K\\x04.', 'x': b'\\x80\\x03K\\r.'},\n",
       " {'index': b'\\x80\\x03K\\x05.', 'x': b'\\x80\\x03K7.'},\n",
       " {'index': b'\\x80\\x03K\\x06.', 'x': b'\\x80\\x03KI.'},\n",
       " {'index': b'\\x80\\x03K\\x07.', 'x': b'\\x80\\x03K\\x15.'},\n",
       " {'index': b'\\x80\\x03K\\x08.', 'x': b'\\x80\\x03K\\x12.'}]"
      ]
     },
     "execution_count": 5,
     "metadata": {},
     "output_type": "execute_result"
    }
   ],
   "source": [
    "#foo_output\n",
    "run_args"
   ]
  },
  {
   "cell_type": "code",
   "execution_count": 6,
   "metadata": {},
   "outputs": [
    {
     "name": "stderr",
     "output_type": "stream",
     "text": [
      "0% [##############################] 100% | ETA: 00:00:00\n",
      "Total time elapsed: 00:00:01\n",
      "0% [##############################] 100% | ETA: 00:00:00\n",
      "Total time elapsed: 00:00:01\n"
     ]
    }
   ],
   "source": [
    "import pyprind \n",
    "import time\n",
    "\n",
    "p1 = pyprind.ProgBar( 100 )\n",
    "p2 = pyprind.ProgBar( 100 )\n",
    "\n",
    "for i in range( 100 ) :\n",
    "    p1.update()\n",
    "    p2.update()\n",
    "    time.sleep( 0.01 )"
   ]
  },
  {
   "cell_type": "code",
   "execution_count": null,
   "metadata": {},
   "outputs": [],
   "source": []
  }
 ],
 "metadata": {
  "kernelspec": {
   "display_name": "Python 3",
   "language": "python",
   "name": "python3"
  },
  "language_info": {
   "codemirror_mode": {
    "name": "ipython",
    "version": 3
   },
   "file_extension": ".py",
   "mimetype": "text/x-python",
   "name": "python",
   "nbconvert_exporter": "python",
   "pygments_lexer": "ipython3",
   "version": "3.6.3"
  }
 },
 "nbformat": 4,
 "nbformat_minor": 2
}
