{
 "cells": [
  {
   "cell_type": "markdown",
   "metadata": {},
   "source": [
    "# SummonUndead\n",
    "### raise armies of gibbering horrors, the easy way"
   ]
  },
  {
   "cell_type": "code",
   "execution_count": 1,
   "metadata": {},
   "outputs": [],
   "source": [
    "%load_ext SummonUndead"
   ]
  },
  {
   "cell_type": "code",
   "execution_count": 2,
   "metadata": {},
   "outputs": [
    {
     "data": {
      "text/plain": [
       "'Army of undead summoned. '"
      ]
     },
     "execution_count": 2,
     "metadata": {},
     "output_type": "execute_result"
    }
   ],
   "source": [
    "%summon_undead"
   ]
  },
  {
   "cell_type": "code",
   "execution_count": 3,
   "metadata": {},
   "outputs": [],
   "source": [
    "run_args = [ { 'index' : 0, 'x' : 10 },\n",
    "             { 'index' : 1, 'x' : 11 },\n",
    "             { 'index' : 2, 'x' : 23 },\n",
    "             { 'index' : 3, 'x' : 34 },\n",
    "             { 'index' : 4, 'x' : 13 },\n",
    "             { 'index' : 5, 'x' : 55 },\n",
    "             { 'index' : 6, 'x' : 73 },\n",
    "             { 'index' : 7, 'x' : 21 },\n",
    "             { 'index' : 8, 'x' : 18 } ]"
   ]
  },
  {
   "cell_type": "code",
   "execution_count": 4,
   "metadata": {},
   "outputs": [
    {
     "name": "stderr",
     "output_type": "stream",
     "text": [
      "executing in local serial mode...\n",
      "0% [#########] 100% | ETA: 00:00:00\n",
      "Total time elapsed: 00:00:00\n"
     ]
    }
   ],
   "source": [
    "%%moan --label foo -n 5 -i run_args -o y,index,pid --mode local_serial\n",
    "import os\n",
    "\n",
    "y = x**2\n",
    "pid = os.getpid()"
   ]
  },
  {
   "cell_type": "code",
   "execution_count": 5,
   "metadata": {},
   "outputs": [
    {
     "data": {
      "text/plain": [
       "[{'y': 100, 'index': 0, 'pid': 27220},\n",
       " {'y': 121, 'index': 1, 'pid': 27221},\n",
       " {'y': 529, 'index': 2, 'pid': 27222},\n",
       " {'y': 1156, 'index': 3, 'pid': 27223},\n",
       " {'y': 169, 'index': 4, 'pid': 27224},\n",
       " {'y': 3025, 'index': 5, 'pid': 27225},\n",
       " {'y': 5329, 'index': 6, 'pid': 27226},\n",
       " {'y': 441, 'index': 7, 'pid': 27227},\n",
       " {'y': 324, 'index': 8, 'pid': 27228}]"
      ]
     },
     "execution_count": 5,
     "metadata": {},
     "output_type": "execute_result"
    }
   ],
   "source": [
    "foo_output"
   ]
  },
  {
   "cell_type": "code",
   "execution_count": 6,
   "metadata": {},
   "outputs": [],
   "source": [
    "%%moan --label bar -n 5 -i run_args -o y,index,pid --mode local_parallel\n",
    "import os\n",
    "\n",
    "y = x**2\n",
    "pid = os.getpid()"
   ]
  },
  {
   "cell_type": "code",
   "execution_count": 7,
   "metadata": {},
   "outputs": [
    {
     "data": {
      "text/plain": [
       "[{'y': 100, 'index': 0, 'pid': 27229},\n",
       " {'y': 121, 'index': 1, 'pid': 27230},\n",
       " {'y': 529, 'index': 2, 'pid': 27231},\n",
       " {'y': 1156, 'index': 3, 'pid': 27232},\n",
       " {'y': 169, 'index': 4, 'pid': 27233},\n",
       " {'y': 3025, 'index': 5, 'pid': 27234},\n",
       " {'y': 5329, 'index': 6, 'pid': 27235},\n",
       " {'y': 441, 'index': 7, 'pid': 27236},\n",
       " {'y': 324, 'index': 8, 'pid': 27237}]"
      ]
     },
     "execution_count": 7,
     "metadata": {},
     "output_type": "execute_result"
    }
   ],
   "source": [
    "bar_output"
   ]
  }
 ],
 "metadata": {
  "kernelspec": {
   "display_name": "Python 3",
   "language": "python",
   "name": "python3"
  },
  "language_info": {
   "codemirror_mode": {
    "name": "ipython",
    "version": 3
   },
   "file_extension": ".py",
   "mimetype": "text/x-python",
   "name": "python",
   "nbconvert_exporter": "python",
   "pygments_lexer": "ipython3",
   "version": "3.6.3"
  }
 },
 "nbformat": 4,
 "nbformat_minor": 2
}
