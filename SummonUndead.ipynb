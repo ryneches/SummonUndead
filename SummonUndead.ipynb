{
 "cells": [
  {
   "cell_type": "markdown",
   "metadata": {},
   "source": [
    "# SummonUndead\n",
    "### Raise armies of gibbering horrors, the easy way\n",
    "\n",
    "Sometimes, when you're up in your Tower of Necromancy working on some evil,\n",
    "raising and leading armies of undead horrors on relatively small missions \n",
    "can be a real drag on your productivity. `SummonUndead` takes the hassle out \n",
    "of work-a-day necromantic battle magic, leaving you more time to focus on\n",
    "mentoring your mid-tier bosses, dungeon management, and other big-picture\n",
    "problems.\n",
    "\n",
    "### Request for comments\n",
    "\n",
    "Should we use `--exclusive`?"
   ]
  },
  {
   "cell_type": "code",
   "execution_count": 1,
   "metadata": {},
   "outputs": [],
   "source": [
    "%load_ext SummonUndead"
   ]
  },
  {
   "cell_type": "code",
   "execution_count": 2,
   "metadata": {},
   "outputs": [
    {
     "data": {
      "text/plain": [
       "'Army of undead summoned. '"
      ]
     },
     "execution_count": 2,
     "metadata": {},
     "output_type": "execute_result"
    }
   ],
   "source": [
    "%summon_undead"
   ]
  },
  {
   "cell_type": "code",
   "execution_count": 3,
   "metadata": {},
   "outputs": [],
   "source": [
    "run_args = [ { 'index' : 0, 'x' : 10 },\n",
    "             { 'index' : 1, 'x' : 11 },\n",
    "             { 'index' : 2, 'x' : 23 },\n",
    "             { 'index' : 3, 'x' : 34 },\n",
    "             { 'index' : 4, 'x' : 13 },\n",
    "             { 'index' : 5, 'x' : 55 },\n",
    "             { 'index' : 6, 'x' : 73 },\n",
    "             { 'index' : 7, 'x' : 21 },\n",
    "             { 'index' : 8, 'x' : 18 } ]"
   ]
  },
  {
   "cell_type": "markdown",
   "metadata": {},
   "source": [
    "Sometimes, you want your army of undead to walk in single file and stay close to home.\n",
    "Use `local_serial` mode."
   ]
  },
  {
   "cell_type": "code",
   "execution_count": 4,
   "metadata": {},
   "outputs": [
    {
     "data": {
      "application/vnd.jupyter.widget-view+json": {
       "model_id": "594ded4862794f65a21dee4ed15166e2",
       "version_major": 2,
       "version_minor": 0
      },
      "text/plain": [
       "HBox(children=(IntProgress(value=0, max=9), HTML(value='')))"
      ]
     },
     "metadata": {},
     "output_type": "display_data"
    },
    {
     "name": "stdout",
     "output_type": "stream",
     "text": [
      "\n"
     ]
    }
   ],
   "source": [
    "%%moan --label foo -n 5 -i run_args -o x,y,index,pid --mode local_serial\n",
    "import os\n",
    "import time\n",
    "\n",
    "time.sleep(.5)\n",
    "y = x**2\n",
    "pid = os.getpid()"
   ]
  },
  {
   "cell_type": "code",
   "execution_count": 5,
   "metadata": {},
   "outputs": [
    {
     "data": {
      "text/plain": [
       "[{'x': 10, 'y': 100, 'index': 0, 'pid': 9075},\n",
       " {'x': 11, 'y': 121, 'index': 1, 'pid': 9076},\n",
       " {'x': 23, 'y': 529, 'index': 2, 'pid': 9077},\n",
       " {'x': 34, 'y': 1156, 'index': 3, 'pid': 9078},\n",
       " {'x': 13, 'y': 169, 'index': 4, 'pid': 9079},\n",
       " {'x': 55, 'y': 3025, 'index': 5, 'pid': 9080},\n",
       " {'x': 73, 'y': 5329, 'index': 6, 'pid': 9082},\n",
       " {'x': 21, 'y': 441, 'index': 7, 'pid': 9084},\n",
       " {'x': 18, 'y': 324, 'index': 8, 'pid': 9467}]"
      ]
     },
     "execution_count": 5,
     "metadata": {},
     "output_type": "execute_result"
    }
   ],
   "source": [
    "foo_output"
   ]
  },
  {
   "cell_type": "markdown",
   "metadata": {},
   "source": [
    "Single file undead armies are mostly only useful for testing purposes.\n",
    "If you want them to shamble along in parallel formation, but still stay\n",
    "close to your Tower of Necromancy, use `local_parallel` mode."
   ]
  },
  {
   "cell_type": "code",
   "execution_count": 6,
   "metadata": {},
   "outputs": [
    {
     "data": {
      "application/vnd.jupyter.widget-view+json": {
       "model_id": "ea1c765d926941d58370dd5c5acedd58",
       "version_major": 2,
       "version_minor": 0
      },
      "text/plain": [
       "HBox(children=(IntProgress(value=0, max=9), HTML(value='')))"
      ]
     },
     "metadata": {},
     "output_type": "display_data"
    },
    {
     "name": "stdout",
     "output_type": "stream",
     "text": [
      "\n"
     ]
    }
   ],
   "source": [
    "%%moan --label bar -n 4 -i run_args -o x,y,index,pid --mode local_parallel\n",
    "import os\n",
    "import time\n",
    "\n",
    "time.sleep(.5)\n",
    "y = x**2\n",
    "pid = os.getpid()"
   ]
  },
  {
   "cell_type": "code",
   "execution_count": 7,
   "metadata": {},
   "outputs": [
    {
     "data": {
      "text/plain": [
       "[{'x': 10, 'y': 100, 'index': 0, 'pid': 9514},\n",
       " {'x': 11, 'y': 121, 'index': 1, 'pid': 9516},\n",
       " {'x': 23, 'y': 529, 'index': 2, 'pid': 9515},\n",
       " {'x': 34, 'y': 1156, 'index': 3, 'pid': 9517},\n",
       " {'x': 13, 'y': 169, 'index': 4, 'pid': 9641},\n",
       " {'x': 55, 'y': 3025, 'index': 5, 'pid': 9642},\n",
       " {'x': 73, 'y': 5329, 'index': 6, 'pid': 9643},\n",
       " {'x': 21, 'y': 441, 'index': 7, 'pid': 9646},\n",
       " {'x': 18, 'y': 324, 'index': 8, 'pid': 9957}]"
      ]
     },
     "execution_count": 7,
     "metadata": {},
     "output_type": "execute_result"
    }
   ],
   "source": [
    "bar_output"
   ]
  },
  {
   "cell_type": "markdown",
   "metadata": {},
   "source": [
    "When it's time to turn your army of undead horrors loose on an unsuspecting\n",
    "HPC, use `slurm` mode. Make sure you provide a scratch directory visible\n",
    "to all the nodes."
   ]
  },
  {
   "cell_type": "code",
   "execution_count": 8,
   "metadata": {},
   "outputs": [
    {
     "name": "stdout",
     "output_type": "stream",
     "text": [
      "job submitted.\n"
     ]
    },
    {
     "data": {
      "application/vnd.jupyter.widget-view+json": {
       "model_id": "a45824d2aa51498a822e15b743050537",
       "version_major": 2,
       "version_minor": 0
      },
      "text/plain": [
       "HBox(children=(IntProgress(value=0, max=9), HTML(value='')))"
      ]
     },
     "metadata": {},
     "output_type": "display_data"
    },
    {
     "name": "stdout",
     "output_type": "stream",
     "text": [
      "\n"
     ]
    }
   ],
   "source": [
    "%%moan --label baz -n 4 -i run_args -o x,y,index,pid --mode slurm --scratch=/global/projectb/scratch/ryneches/undead\n",
    "import os\n",
    "import time\n",
    "\n",
    "time.sleep(.5)\n",
    "y = x**2\n",
    "pid = os.getpid()"
   ]
  },
  {
   "cell_type": "markdown",
   "metadata": {},
   "source": [
    "(wait for jobs to finish)"
   ]
  },
  {
   "cell_type": "code",
   "execution_count": 9,
   "metadata": {},
   "outputs": [
    {
     "data": {
      "text/plain": [
       "[{'x': 10, 'y': 100, 'index': 0, 'pid': 40493},\n",
       " {'x': 11, 'y': 121, 'index': 1, 'pid': 40539},\n",
       " {'x': 23, 'y': 529, 'index': 2, 'pid': 40572},\n",
       " {'x': 34, 'y': 1156, 'index': 3, 'pid': 40602},\n",
       " {'x': 13, 'y': 169, 'index': 4, 'pid': 40636},\n",
       " {'x': 55, 'y': 3025, 'index': 5, 'pid': 40668},\n",
       " {'x': 73, 'y': 5329, 'index': 6, 'pid': 40699},\n",
       " {'x': 21, 'y': 441, 'index': 7, 'pid': 40737},\n",
       " {'x': 18, 'y': 324, 'index': 8, 'pid': 40773}]"
      ]
     },
     "execution_count": 9,
     "metadata": {},
     "output_type": "execute_result"
    }
   ],
   "source": [
    "baz_output"
   ]
  }
 ],
 "metadata": {
  "kernelspec": {
   "display_name": "myconda",
   "language": "python",
   "name": "myconda"
  },
  "language_info": {
   "codemirror_mode": {
    "name": "ipython",
    "version": 3
   },
   "file_extension": ".py",
   "mimetype": "text/x-python",
   "name": "python",
   "nbconvert_exporter": "python",
   "pygments_lexer": "ipython3",
   "version": "3.6.8"
  },
  "varInspector": {
   "cols": {
    "lenName": 16,
    "lenType": 16,
    "lenVar": 40
   },
   "kernels_config": {
    "python": {
     "delete_cmd_postfix": "",
     "delete_cmd_prefix": "del ",
     "library": "var_list.py",
     "varRefreshCmd": "print(var_dic_list())"
    },
    "r": {
     "delete_cmd_postfix": ") ",
     "delete_cmd_prefix": "rm(",
     "library": "var_list.r",
     "varRefreshCmd": "cat(var_dic_list()) "
    }
   },
   "types_to_exclude": [
    "module",
    "function",
    "builtin_function_or_method",
    "instance",
    "_Feature"
   ],
   "window_display": false
  }
 },
 "nbformat": 4,
 "nbformat_minor": 2
}
