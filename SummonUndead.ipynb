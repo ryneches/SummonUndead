{
 "cells": [
  {
   "cell_type": "markdown",
   "metadata": {},
   "source": [
    "# SummonUndead\n",
    "### raise armies of gibbering horrors, the easy way"
   ]
  },
  {
   "cell_type": "code",
   "execution_count": 1,
   "metadata": {},
   "outputs": [],
   "source": [
    "%load_ext SummonUndead"
   ]
  },
  {
   "cell_type": "code",
   "execution_count": 2,
   "metadata": {},
   "outputs": [
    {
     "data": {
      "text/plain": [
       "'Army of undead summoned. '"
      ]
     },
     "execution_count": 2,
     "metadata": {},
     "output_type": "execute_result"
    }
   ],
   "source": [
    "%summon_undead"
   ]
  },
  {
   "cell_type": "code",
   "execution_count": 3,
   "metadata": {},
   "outputs": [],
   "source": [
    "run_args = [ { 'index' : 0, 'x' : 10 },\n",
    "             { 'index' : 1, 'x' : 11 },\n",
    "             { 'index' : 2, 'x' : 23 },\n",
    "             { 'index' : 3, 'x' : 34 },\n",
    "             { 'index' : 4, 'x' : 13 },\n",
    "             { 'index' : 5, 'x' : 55 },\n",
    "             { 'index' : 6, 'x' : 73 },\n",
    "             { 'index' : 7, 'x' : 21 },\n",
    "             { 'index' : 8, 'x' : 18 } ]"
   ]
  },
  {
   "cell_type": "code",
   "execution_count": 4,
   "metadata": {},
   "outputs": [
    {
     "data": {
      "application/vnd.jupyter.widget-view+json": {
       "model_id": "891bc6b1de634f35b7b25f9f01d2ed69",
       "version_major": 2,
       "version_minor": 0
      },
      "text/plain": [
       "HBox(children=(IntProgress(value=0, max=9), HTML(value='')))"
      ]
     },
     "metadata": {},
     "output_type": "display_data"
    },
    {
     "name": "stdout",
     "output_type": "stream",
     "text": [
      "\n"
     ]
    }
   ],
   "source": [
    "%%moan --label foo -n 5 -i run_args -o y,index,pid --mode local_serial\n",
    "import os\n",
    "import time\n",
    "\n",
    "time.sleep(.5)\n",
    "y = x**2\n",
    "pid = os.getpid()"
   ]
  },
  {
   "cell_type": "code",
   "execution_count": 5,
   "metadata": {},
   "outputs": [
    {
     "data": {
      "text/plain": [
       "[{'y': 100, 'index': 0, 'pid': 9100},\n",
       " {'y': 121, 'index': 1, 'pid': 9103},\n",
       " {'y': 529, 'index': 2, 'pid': 9104},\n",
       " {'y': 1156, 'index': 3, 'pid': 9105},\n",
       " {'y': 169, 'index': 4, 'pid': 9106},\n",
       " {'y': 3025, 'index': 5, 'pid': 9107},\n",
       " {'y': 5329, 'index': 6, 'pid': 9108},\n",
       " {'y': 441, 'index': 7, 'pid': 9109},\n",
       " {'y': 324, 'index': 8, 'pid': 9110}]"
      ]
     },
     "execution_count": 5,
     "metadata": {},
     "output_type": "execute_result"
    }
   ],
   "source": [
    "foo_output"
   ]
  },
  {
   "cell_type": "code",
   "execution_count": 6,
   "metadata": {},
   "outputs": [
    {
     "data": {
      "application/vnd.jupyter.widget-view+json": {
       "model_id": "fa33c12d1b4641bbbd5c2b30ff34eb28",
       "version_major": 2,
       "version_minor": 0
      },
      "text/plain": [
       "HBox(children=(IntProgress(value=0, max=9), HTML(value='')))"
      ]
     },
     "metadata": {},
     "output_type": "display_data"
    },
    {
     "name": "stdout",
     "output_type": "stream",
     "text": [
      "\n"
     ]
    }
   ],
   "source": [
    "%%moan --label bar -n 4 -i run_args -o y,index,pid --mode local_parallel\n",
    "import os\n",
    "import time\n",
    "\n",
    "time.sleep(.5)\n",
    "y = x**2\n",
    "pid = os.getpid()"
   ]
  },
  {
   "cell_type": "code",
   "execution_count": 7,
   "metadata": {},
   "outputs": [
    {
     "data": {
      "text/plain": [
       "[{'y': 100, 'index': 0, 'pid': 9460},\n",
       " {'y': 121, 'index': 1, 'pid': 9461},\n",
       " {'y': 529, 'index': 2, 'pid': 9462},\n",
       " {'y': 1156, 'index': 3, 'pid': 9463},\n",
       " {'y': 169, 'index': 4, 'pid': 9464},\n",
       " {'y': 3025, 'index': 5, 'pid': 9465},\n",
       " {'y': 5329, 'index': 6, 'pid': 9466},\n",
       " {'y': 441, 'index': 7, 'pid': 9467},\n",
       " {'y': 324, 'index': 8, 'pid': 9469}]"
      ]
     },
     "execution_count": 7,
     "metadata": {},
     "output_type": "execute_result"
    }
   ],
   "source": [
    "bar_output"
   ]
  },
  {
   "cell_type": "code",
   "execution_count": 8,
   "metadata": {},
   "outputs": [
    {
     "name": "stdout",
     "output_type": "stream",
     "text": [
      "job id 21358605 submitted\n",
      "job id 21358606 submitted\n",
      "job id 21358607 submitted\n",
      "job id 21358608 submitted\n",
      "job id 21358609 submitted\n",
      "job id 21358610 submitted\n",
      "job id 21358611 submitted\n",
      "job id 21358612 submitted\n",
      "job id 21358613 submitted\n"
     ]
    }
   ],
   "source": [
    "%%moan --label baz -n 4 -i run_args -o y,index,pid --mode slurm --scratch=/global/projectb/scratch/ryneches/undead\n",
    "import os\n",
    "import time\n",
    "\n",
    "time.sleep(.5)\n",
    "y = x**2\n",
    "pid = os.getpid()"
   ]
  },
  {
   "cell_type": "markdown",
   "metadata": {},
   "source": [
    "(wait for jobs to finish)"
   ]
  },
  {
   "cell_type": "code",
   "execution_count": 14,
   "metadata": {},
   "outputs": [
    {
     "name": "stdout",
     "output_type": "stream",
     "text": [
      "{'y': 100, 'index': 0, 'pid': 18034}\n",
      "{'y': 121, 'index': 1, 'pid': 18025}\n",
      "{'y': 529, 'index': 2, 'pid': 18024}\n",
      "{'y': 1156, 'index': 3, 'pid': 18033}\n",
      "{'y': 169, 'index': 4, 'pid': 18053}\n",
      "{'y': 3025, 'index': 5, 'pid': 18026}\n",
      "{'y': 5329, 'index': 6, 'pid': 18050}\n",
      "{'y': 441, 'index': 7, 'pid': 18055}\n",
      "{'y': 324, 'index': 8, 'pid': 18045}\n"
     ]
    }
   ],
   "source": [
    "import pickle\n",
    "\n",
    "scratchpath = '/global/projectb/scratch/ryneches/undead'\n",
    "\n",
    "for p in baz_output :\n",
    "    print( pickle.load( open( p['output_pickle'], 'rb' ) ) )\n",
    "\n",
    "#print(baz_output)"
   ]
  },
  {
   "cell_type": "code",
   "execution_count": null,
   "metadata": {},
   "outputs": [],
   "source": []
  }
 ],
 "metadata": {
  "kernelspec": {
   "display_name": "Python 3",
   "language": "python",
   "name": "python3"
  },
  "language_info": {
   "codemirror_mode": {
    "name": "ipython",
    "version": 3
   },
   "file_extension": ".py",
   "mimetype": "text/x-python",
   "name": "python",
   "nbconvert_exporter": "python",
   "pygments_lexer": "ipython3",
   "version": "3.6.4"
  }
 },
 "nbformat": 4,
 "nbformat_minor": 2
}
